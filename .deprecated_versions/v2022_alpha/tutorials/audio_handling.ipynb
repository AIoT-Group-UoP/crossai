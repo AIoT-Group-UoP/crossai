{
 "cells": [
  {
   "cell_type": "code",
   "execution_count": 1,
   "metadata": {},
   "outputs": [],
   "source": [
    "%load_ext autoreload\n",
    "%autoreload 2\n",
    "\n",
    "import os\n",
    "import librosa\n",
    "from crossai.processing import Audio"
   ]
  },
  {
   "cell_type": "markdown",
   "source": [
    "# Load Instance\n",
    "\n",
    "Use a package that can load the .wav files as an NumPy array (such as *librosa*)"
   ],
   "metadata": {
    "collapsed": false
   }
  },
  {
   "cell_type": "code",
   "execution_count": 2,
   "outputs": [],
   "source": [
    "# audio instance path (tutorials/data_test folder)\n",
    "data_path = os.path.join(os.getcwd(), \"data_test\", \"audio.wav\")"
   ],
   "metadata": {
    "collapsed": false
   }
  },
  {
   "cell_type": "code",
   "execution_count": 3,
   "outputs": [
    {
     "name": "stdout",
     "output_type": "stream",
     "text": [
      "Type of audio <class 'numpy.ndarray'>\n",
      "Shape of audio: (661794,)\n",
      "Sampling rate: 22050\n"
     ]
    }
   ],
   "source": [
    "# info about the instance\n",
    "audio, sr = librosa.load(data_path)\n",
    "print(\"Type of audio\", type(audio))\n",
    "print(\"Shape of audio:\", audio.shape)\n",
    "print(\"Sampling rate:\", sr)"
   ],
   "metadata": {
    "collapsed": false
   }
  },
  {
   "cell_type": "markdown",
   "source": [
    "# Create a CrossAI Audio object"
   ],
   "metadata": {
    "collapsed": false
   }
  },
  {
   "cell_type": "markdown",
   "source": [
    "Load a list of instances and their corresponding labels (in our case we have only 1)"
   ],
   "metadata": {
    "collapsed": false
   }
  },
  {
   "cell_type": "code",
   "execution_count": 4,
   "metadata": {},
   "outputs": [],
   "source": [
    "data = [{'X': audio, 'Y': \"hiphop\"}]"
   ]
  },
  {
   "cell_type": "code",
   "execution_count": 5,
   "metadata": {},
   "outputs": [
    {
     "name": "stdout",
     "output_type": "stream",
     "text": [
      "Type of CrossAI instance: <class 'crossai.processing.audio._audio.Audio'>\n",
      "Type of CrossAI audio data: <class 'numpy.ndarray'>\n",
      "Label of instance: hiphop\n",
      "Shape of audio: (661794,)\n",
      "Audio data: \n",
      " [0.012847900390625 0.020721435546875 0.0194091796875 ... -0.02362060546875\n",
      " -0.0714111328125 -0.090911865234375]\n"
     ]
    }
   ],
   "source": [
    "crossai_audio = Audio(data)\n",
    "print(\"Type of CrossAI instance:\", type(crossai_audio))\n",
    "\n",
    "# access the instance\n",
    "print(\"Type of CrossAI audio data:\", type(crossai_audio.X[0]))\n",
    "print(\"Label of instance:\", crossai_audio.Y[0])\n",
    "print(\"Shape of audio:\", crossai_audio.X[0].shape)\n",
    "print(\"Audio data: \\n\", crossai_audio.X[0])"
   ]
  },
  {
   "cell_type": "code",
   "execution_count": 5,
   "outputs": [],
   "source": [],
   "metadata": {
    "collapsed": false
   }
  },
  {
   "cell_type": "markdown",
   "source": [
    "# Transform the data"
   ],
   "metadata": {
    "collapsed": false
   }
  },
  {
   "cell_type": "markdown",
   "source": [
    "## Filter by using the Butterworth filtering"
   ],
   "metadata": {
    "collapsed": false
   }
  },
  {
   "cell_type": "code",
   "execution_count": 6,
   "metadata": {},
   "outputs": [],
   "source": [
    "crossai_audio.butterworth_filter(order=12, cutoff_freq=[500], type=\"highpass\", Fs=22050)"
   ]
  },
  {
   "cell_type": "markdown",
   "source": [
    "# Access the transformed data"
   ],
   "metadata": {
    "collapsed": false
   }
  },
  {
   "cell_type": "code",
   "execution_count": 7,
   "outputs": [
    {
     "data": {
      "text/plain": "[{'X': array([[[-2.1501966e-03,  5.4476494e-03,  3.8301658e-03, ...,\n            2.9492613e-02, -4.7704084e-03,  1.1275703e-16]]], dtype=float32),\n  'Y': 'hiphop'}]"
     },
     "execution_count": 7,
     "metadata": {},
     "output_type": "execute_result"
    }
   ],
   "source": [
    "crossai_audio.data"
   ],
   "metadata": {
    "collapsed": false
   }
  },
  {
   "cell_type": "markdown",
   "source": [
    "Check the X data (which is actually the train data)"
   ],
   "metadata": {
    "collapsed": false
   }
  },
  {
   "cell_type": "code",
   "execution_count": 8,
   "outputs": [
    {
     "data": {
      "text/plain": "(1, 1, 661794)"
     },
     "execution_count": 8,
     "metadata": {},
     "output_type": "execute_result"
    }
   ],
   "source": [
    "crossai_audio.X.shape"
   ],
   "metadata": {
    "collapsed": false
   }
  },
  {
   "cell_type": "markdown",
   "source": [
    "Check the X instance that was transformed"
   ],
   "metadata": {
    "collapsed": false
   }
  },
  {
   "cell_type": "code",
   "execution_count": 9,
   "outputs": [
    {
     "name": "stdout",
     "output_type": "stream",
     "text": [
      "Transformed audio instance shape (1, 661794)\n",
      "Transformed audio instance data: \n",
      " [[-0.0021501965820789337 0.005447649396955967 0.003830165835097432 ...\n",
      "  0.029492612928152084 -0.004770408384501934 1.1275702593849246e-16]]\n"
     ]
    }
   ],
   "source": [
    "print(\"Transformed audio instance shape\", crossai_audio.X[0].shape)\n",
    "print(\"Transformed audio instance data: \\n\", crossai_audio.X[0])"
   ],
   "metadata": {
    "collapsed": false
   }
  }
 ],
 "metadata": {
  "kernelspec": {
   "display_name": "Python 3.9.13 ('base')",
   "language": "python",
   "name": "python3"
  },
  "language_info": {
   "codemirror_mode": {
    "name": "ipython",
    "version": 3
   },
   "file_extension": ".py",
   "mimetype": "text/x-python",
   "name": "python",
   "nbconvert_exporter": "python",
   "pygments_lexer": "ipython3",
   "version": "3.9.15"
  },
  "orig_nbformat": 4,
  "vscode": {
   "interpreter": {
    "hash": "72b87ad370d516cd76aed723483d2f89d64ba07136096bf8ef4b13bbcecaee42"
   }
  }
 },
 "nbformat": 4,
 "nbformat_minor": 2
}
