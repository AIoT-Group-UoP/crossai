{
 "cells": [
  {
   "cell_type": "markdown",
   "metadata": {},
   "source": [
    "## Data processing construction example using CrossAI "
   ]
  },
  {
   "cell_type": "markdown",
   "metadata": {},
   "source": [
    "#### Disable Warnings"
   ]
  },
  {
   "cell_type": "code",
   "execution_count": 1,
   "metadata": {},
   "outputs": [],
   "source": [
    "import warnings\n",
    "warnings.filterwarnings('ignore')"
   ]
  },
  {
   "cell_type": "markdown",
   "metadata": {},
   "source": [
    "#### Import Configuration Module"
   ]
  },
  {
   "cell_type": "code",
   "execution_count": 2,
   "metadata": {},
   "outputs": [],
   "source": [
    "import yaml"
   ]
  },
  {
   "cell_type": "markdown",
   "metadata": {},
   "source": [
    "#### Load Configuation"
   ]
  },
  {
   "cell_type": "code",
   "execution_count": 3,
   "metadata": {},
   "outputs": [],
   "source": [
    "with open(\"../config.yml\", \"r\") as stream:\n",
    "    try:\n",
    "        config = yaml.safe_load(stream)\n",
    "    except yaml.YAMLError as exc:\n",
    "        print(exc)"
   ]
  },
  {
   "cell_type": "markdown",
   "metadata": {},
   "source": [
    "#### Load Data\n",
    "Store into a dataframe which will contain all data and the respective class label (which is stored in the last column of the dataframe)"
   ]
  },
  {
   "cell_type": "code",
   "execution_count": 4,
   "metadata": {},
   "outputs": [],
   "source": [
    "data_dir_path = config['PATH']['RAW']['MINI_SPEECH_COMMANDS'] # store to dataframe\n",
    "SAMPLE_RATE = 16000"
   ]
  },
  {
   "cell_type": "code",
   "execution_count": 5,
   "metadata": {},
   "outputs": [
    {
     "name": "stderr",
     "output_type": "stream",
     "text": [
      "Loaded data into the dataframe: 100%|██████████| 10/10 [00:06<00:00,  1.61it/s]                                                   \n"
     ]
    }
   ],
   "source": [
    "from crossai.loader import audio_loader\n",
    "\n",
    "# All signals are resampled at `SAMPLE_RATE` and normalised (0, 1)\n",
    "df = audio_loader(path=data_dir_path, sr=SAMPLE_RATE)"
   ]
  },
  {
   "cell_type": "markdown",
   "metadata": {},
   "source": [
    "Create a crossai audio object which will be used for the exploitation of the data processing pipeline.\n",
    "\n",
    "cai_audio.data holds the data in a dataframe: each row/signal is np.float32  \n",
    "and cai_audio.lalbels holds the data labels in a dataframe"
   ]
  },
  {
   "cell_type": "code",
   "execution_count": 6,
   "metadata": {},
   "outputs": [
    {
     "data": {
      "text/plain": [
       "0    [0.506821, 0.50676304, 0.50670505, 0.5071688, ...\n",
       "1    [0.53376144, 0.5336966, 0.5336966, 0.5336966, ...\n",
       "2    [0.6036141, 0.6044156, 0.6044885, 0.6037598, 0...\n",
       "3    [0.4621682, 0.45547011, 0.4510047, 0.44058546,...\n",
       "4    [0.5535465, 0.5521018, 0.55163574, 0.5524979, ...\n",
       "Name: data, dtype: object"
      ]
     },
     "execution_count": 6,
     "metadata": {},
     "output_type": "execute_result"
    }
   ],
   "source": [
    "from crossai.pipelines.audio import Audio\n",
    "\n",
    "cai_audio = Audio(df)\n",
    "cai_audio.data.head()"
   ]
  },
  {
   "cell_type": "code",
   "execution_count": 7,
   "metadata": {},
   "outputs": [
    {
     "data": {
      "text/plain": [
       "(0    left\n",
       " 1    left\n",
       " 2    left\n",
       " 3    left\n",
       " 4    left\n",
       " Name: label, dtype: object,\n",
       " label\n",
       " left     1000\n",
       " go       1000\n",
       " right    1000\n",
       " up       1000\n",
       " stop     1000\n",
       " yes      1000\n",
       " down     1000\n",
       " no       1000\n",
       " Name: count, dtype: int64)"
      ]
     },
     "execution_count": 7,
     "metadata": {},
     "output_type": "execute_result"
    }
   ],
   "source": [
    "cai_audio.labels.head(), cai_audio.labels.value_counts()"
   ]
  },
  {
   "cell_type": "markdown",
   "metadata": {},
   "source": [
    "#### Pipeline Construction\n",
    "- Pad the audio data\n",
    "- Apply band-pass filtering\n",
    "- Extract Spectrogram\n",
    "- Convert to df"
   ]
  },
  {
   "cell_type": "markdown",
   "metadata": {},
   "source": [
    "Create custom functions for data processing , either 1D or 2D and generate their respective pipeline transformers."
   ]
  },
  {
   "cell_type": "code",
   "execution_count": 9,
   "metadata": {},
   "outputs": [],
   "source": [
    "from crossai.pipelines.timeseries import Transformer\n",
    "from crossai.processing.filter import butterworth_filter\n",
    "from crossai.processing.audio import melspectrogram\n",
    "from crossai.pipelines.timeseries import ToPandas\n",
    "from crossai.pipelines.timeseries import PadOrTrim\n",
    "\n",
    "POT = PadOrTrim(fill_value=0, pad_type=\"mean\")\n",
    "Butterworth = Transformer(\n",
    "    butterworth_filter, \n",
    "    f_type='bp',\n",
    "    sr=SAMPLE_RATE, \n",
    "    cutoff_low=300, \n",
    "    cutoff_high=3400, \n",
    "    order=6\n",
    ")\n",
    "Spectrogram = Transformer(\n",
    "    melspectrogram,\n",
    "    sr=SAMPLE_RATE, \n",
    "    n_fft=1024, \n",
    "    hop_length=512,\n",
    "    n_mels=128, \n",
    "    fmin=0, \n",
    "    fmax=4000, \n",
    "    power=2.0\n",
    ")\n",
    "TP = ToPandas()"
   ]
  },
  {
   "cell_type": "markdown",
   "metadata": {},
   "source": [
    "Fit and transform crossai audio data using the transformers.\n",
    "\n",
    "ToPandas is used to transform the data back to pandas-series form."
   ]
  },
  {
   "cell_type": "code",
   "execution_count": 10,
   "metadata": {},
   "outputs": [
    {
     "data": {
      "text/plain": [
       "<crossai.pipelines.audio.Audio at 0x7efe3f384610>"
      ]
     },
     "execution_count": 10,
     "metadata": {},
     "output_type": "execute_result"
    }
   ],
   "source": [
    "from sklearn.pipeline import Pipeline\n",
    "\n",
    "pipe = Pipeline([\n",
    "    ('pad_or_trim', POT),\n",
    "    ('filter', Butterworth),\n",
    "    ('spectrogram', Spectrogram),\n",
    "    ('TP', TP)\n",
    "])\n",
    "\n",
    "pipe.fit_transform(cai_audio)"
   ]
  },
  {
   "cell_type": "code",
   "execution_count": 11,
   "metadata": {},
   "outputs": [
    {
     "data": {
      "text/plain": [
       "0       [[-80.0, -80.0, -80.0, -80.0, -80.0, -80.0, -8...\n",
       "1       [[-78.44596119206062, -80.0, -80.0, -80.0, -80...\n",
       "2       [[-80.0, -80.0, -80.0, -80.0, -80.0, -80.0, -8...\n",
       "3       [[-51.65072104701758, -80.0, -80.0, -80.0, -80...\n",
       "4       [[-80.0, -80.0, -80.0, -80.0, -80.0, -80.0, -8...\n",
       "                              ...                        \n",
       "7995    [[-77.70423084679652, -80.0, -80.0, -80.0, -80...\n",
       "7996    [[-80.0, -80.0, -80.0, -80.0, -80.0, -80.0, -8...\n",
       "7997    [[-80.0, -80.0, -80.0, -80.0, -80.0, -80.0, -8...\n",
       "7998    [[-80.0, -80.0, -80.0, -80.0, -80.0, -80.0, -8...\n",
       "7999    [[-80.0, -80.0, -80.0, -80.0, -80.0, -80.0, -8...\n",
       "Length: 8000, dtype: object"
      ]
     },
     "execution_count": 11,
     "metadata": {},
     "output_type": "execute_result"
    }
   ],
   "source": [
    "cai_audio.data"
   ]
  },
  {
   "cell_type": "code",
   "execution_count": 12,
   "metadata": {},
   "outputs": [
    {
     "data": {
      "text/plain": [
       "0       left\n",
       "1       left\n",
       "2       left\n",
       "3       left\n",
       "4       left\n",
       "        ... \n",
       "7995      no\n",
       "7996      no\n",
       "7997      no\n",
       "7998      no\n",
       "7999      no\n",
       "Name: label, Length: 8000, dtype: object"
      ]
     },
     "execution_count": 12,
     "metadata": {},
     "output_type": "execute_result"
    }
   ],
   "source": [
    "cai_audio.labels"
   ]
  },
  {
   "cell_type": "markdown",
   "metadata": {},
   "source": [
    "Now the crossai audio data is transformed through the processing pipeline."
   ]
  },
  {
   "cell_type": "markdown",
   "metadata": {},
   "source": [
    "<h4> Spectrogram visualization example<h4>"
   ]
  },
  {
   "cell_type": "code",
   "execution_count": 13,
   "metadata": {},
   "outputs": [
    {
     "data": {
      "image/png": "[encoded data removed]",
      "text/plain": [
       "<Figure size 1200x500 with 2 Axes>"
      ]
     },
     "metadata": {},
     "output_type": "display_data"
    }
   ],
   "source": [
    "import matplotlib.pyplot as plt\n",
    "import librosa.display\n",
    "\n",
    "spec = cai_audio.data[210]\n",
    "\n",
    "plt.figure(figsize=(12, 5))\n",
    "librosa.display.specshow(spec, y_axis='mel', fmax=4000, x_axis='time')\n",
    "plt.colorbar(format='%+2.0f dB')\n",
    "plt.title('Mel spectrogram')\n",
    "plt.tight_layout()\n",
    "plt.show()"
   ]
  },
  {
   "cell_type": "code",
   "execution_count": null,
   "metadata": {},
   "outputs": [],
   "source": []
  }
 ],
 "metadata": {
  "kernelspec": {
   "display_name": "Python 3 (ipykernel)",
   "language": "python",
   "name": "python3"
  },
  "language_info": {
   "codemirror_mode": {
    "name": "ipython",
    "version": 3
   },
   "file_extension": ".py",
   "mimetype": "text/x-python",
   "name": "python",
   "nbconvert_exporter": "python",
   "pygments_lexer": "ipython3",
   "version": "3.11.6"
  }
 },
 "nbformat": 4,
 "nbformat_minor": 2
}
