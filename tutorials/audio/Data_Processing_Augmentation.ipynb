{
 "cells": [
  {
   "cell_type": "markdown",
   "metadata": {},
   "source": [
    "<h1> Audio Data Augmentation example <h1>"
   ]
  },
  {
   "cell_type": "markdown",
   "metadata": {},
   "source": [
    "### Imports"
   ]
  },
  {
   "cell_type": "code",
   "execution_count": 1,
   "metadata": {},
   "outputs": [],
   "source": [
    "from random import randint\n",
    "import matplotlib.pyplot as plt\n",
    "import yaml\n",
    "from crossai.loader import audio_loader"
   ]
  },
  {
   "cell_type": "markdown",
   "metadata": {},
   "source": [
    "### Load configuration file and dataset path"
   ]
  },
  {
   "cell_type": "code",
   "execution_count": 2,
   "metadata": {},
   "outputs": [],
   "source": [
    "with open(\"../config.yml\", \"r\") as stream:\n",
    "    try:\n",
    "        config = yaml.safe_load(stream)\n",
    "    except yaml.YAMLError as exc:\n",
    "        print(exc)"
   ]
  },
  {
   "cell_type": "code",
   "execution_count": 3,
   "metadata": {},
   "outputs": [
    {
     "name": "stderr",
     "output_type": "stream",
     "text": [
      "Loaded data into the dataframe: 100%|██████████| 10/10 [00:07<00:00,  1.33it/s]                                                   \n"
     ]
    }
   ],
   "source": [
    "multi_dir_path = config['PATH']['RAW']['MINI_SPEECH_COMMANDS'] # store to dataframe\n",
    "\n",
    "# All signals are resampled at 22050Hz and normalised (0, 1)\n",
    "df = audio_loader(multi_dir_path)"
   ]
  },
  {
   "cell_type": "markdown",
   "metadata": {},
   "source": [
    "Create crossai audio data object."
   ]
  },
  {
   "cell_type": "code",
   "execution_count": 4,
   "metadata": {},
   "outputs": [],
   "source": [
    "from crossai.pipelines.audio import Audio "
   ]
  },
  {
   "cell_type": "code",
   "execution_count": 5,
   "metadata": {},
   "outputs": [
    {
     "data": {
      "text/plain": [
       "0       [0.5122615, 0.51215744, 0.5122032, 0.5121585, ...\n",
       "1       [0.53833336, 0.5382485, 0.53829324, 0.53825945...\n",
       "2       [0.59909344, 0.5995758, 0.60014033, 0.5998662,...\n",
       "3       [0.46179047, 0.45909047, 0.45150578, 0.4502450...\n",
       "4       [0.5509648, 0.5498947, 0.549121, 0.54910535, 0...\n",
       "                              ...                        \n",
       "7995    [0.5364869, 0.5371126, 0.5387156, 0.5392515, 0...\n",
       "7996    [0.5423568, 0.5426123, 0.5428177, 0.5423651, 0...\n",
       "7997    [0.49612916, 0.49653575, 0.4966421, 0.4965381,...\n",
       "7998    [0.4939985, 0.49412805, 0.4942774, 0.49421456,...\n",
       "7999    [0.5626292, 0.5625252, 0.56263936, 0.5625625, ...\n",
       "Name: data, Length: 8000, dtype: object"
      ]
     },
     "execution_count": 5,
     "metadata": {},
     "output_type": "execute_result"
    }
   ],
   "source": [
    "# create crossai audio object\n",
    "cai_audio = Audio(df)\n",
    "cai_audio.data"
   ]
  },
  {
   "cell_type": "markdown",
   "metadata": {},
   "source": [
    "The labels are contained inside audio_object.labels."
   ]
  },
  {
   "cell_type": "code",
   "execution_count": 6,
   "metadata": {},
   "outputs": [
    {
     "data": {
      "text/plain": [
       "0    left\n",
       "1    left\n",
       "2    left\n",
       "3    left\n",
       "4    left\n",
       "Name: label, dtype: object"
      ]
     },
     "execution_count": 6,
     "metadata": {},
     "output_type": "execute_result"
    }
   ],
   "source": [
    "cai_audio.labels.head()"
   ]
  },
  {
   "cell_type": "markdown",
   "metadata": {},
   "source": [
    "Create augmentations and augmentation order list."
   ]
  },
  {
   "cell_type": "code",
   "execution_count": 7,
   "metadata": {},
   "outputs": [],
   "source": [
    "from crossai.processing.augment import roll_signal\n",
    "from crossai.processing.audio.augment_audio import loudness\n",
    "from crossai.pipelines.preparation import Augmenter"
   ]
  },
  {
   "cell_type": "code",
   "execution_count": 8,
   "metadata": {},
   "outputs": [],
   "source": [
    "roll_aug = Augmenter(\n",
    "    roll_signal,\n",
    "    augment_times=1,\n",
    "    n_roll=randint(10000, 50000)\n",
    ")\n",
    "loudness_aug = Augmenter(\n",
    "    loudness,\n",
    "    augment_times=1,\n",
    "    factor_low=4,\n",
    "    factor_high=8\n",
    ")\n",
    "Augmentations = [roll_aug, loudness_aug]"
   ]
  },
  {
   "cell_type": "markdown",
   "metadata": {},
   "source": [
    "Augment data"
   ]
  },
  {
   "cell_type": "code",
   "execution_count": 9,
   "metadata": {},
   "outputs": [],
   "source": [
    "from crossai.pipelines.preparation import augment_signal_data\n",
    "\n",
    "cai_audio_augmented = augment_signal_data(cai_audio, Augmentations)"
   ]
  },
  {
   "cell_type": "code",
   "execution_count": 10,
   "metadata": {},
   "outputs": [
    {
     "data": {
      "text/plain": [
       "0        [0.5122615, 0.51215744, 0.5122032, 0.5121585, ...\n",
       "1        [0.53833336, 0.5382485, 0.53829324, 0.53825945...\n",
       "2        [0.59909344, 0.5995758, 0.60014033, 0.5998662,...\n",
       "3        [0.46179047, 0.45909047, 0.45150578, 0.4502450...\n",
       "4        [0.5509648, 0.5498947, 0.549121, 0.54910535, 0...\n",
       "                               ...                        \n",
       "23995    [0.5364869, 0.5371126, 0.5387156, 0.5392515, 0...\n",
       "23996    [0.5423568, 0.5426123, 0.5428177, 0.5423651, 0...\n",
       "23997    [0.49612916, 0.49653575, 0.4966421, 0.4965381,...\n",
       "23998    [0.4939985, 0.49412805, 0.4942774, 0.49421456,...\n",
       "23999    [0.5626292, 0.5625252, 0.56263936, 0.5625625, ...\n",
       "Name: data, Length: 24000, dtype: object"
      ]
     },
     "execution_count": 10,
     "metadata": {},
     "output_type": "execute_result"
    }
   ],
   "source": [
    "# Augmented Data Lengh: 24000\n",
    "#   8000 (original) signals\n",
    "# + 8000 rolled signals (Rolling has been applied for each signal)\n",
    "# + 8000 loudness changed signals (Loudnes change has been applied for each signal)\n",
    "# --------\n",
    "# 24000 samples\n",
    "cai_audio_augmented.data"
   ]
  },
  {
   "cell_type": "markdown",
   "metadata": {},
   "source": [
    "The labels are updated aswell."
   ]
  },
  {
   "cell_type": "code",
   "execution_count": 11,
   "metadata": {},
   "outputs": [
    {
     "data": {
      "text/plain": [
       "0        left\n",
       "1        left\n",
       "2        left\n",
       "3        left\n",
       "4        left\n",
       "         ... \n",
       "23995      no\n",
       "23996      no\n",
       "23997      no\n",
       "23998      no\n",
       "23999      no\n",
       "Name: label, Length: 24000, dtype: object"
      ]
     },
     "execution_count": 11,
     "metadata": {},
     "output_type": "execute_result"
    }
   ],
   "source": [
    "cai_audio_augmented.labels"
   ]
  },
  {
   "cell_type": "markdown",
   "metadata": {},
   "source": [
    "<h1>Insertion into processing pipeline example <h1>"
   ]
  },
  {
   "cell_type": "markdown",
   "metadata": {},
   "source": [
    "Create an audio data to mel spectrograml transformer using create_transformer method."
   ]
  },
  {
   "cell_type": "code",
   "execution_count": 12,
   "metadata": {},
   "outputs": [],
   "source": [
    "from crossai.processing.audio import melspectrogram\n",
    "from crossai.pipelines.timeseries import Transformer\n",
    "\n",
    "Spectrogram = Transformer(melspectrogram, sr=22050)"
   ]
  },
  {
   "cell_type": "markdown",
   "metadata": {},
   "source": [
    "Create a processing pipeline that transforms the data into mel spectrograms."
   ]
  },
  {
   "cell_type": "code",
   "execution_count": 13,
   "metadata": {},
   "outputs": [
    {
     "data": {
      "text/plain": [
       "<crossai.pipelines.timeseries.TimeSeries at 0x7f30a8594950>"
      ]
     },
     "execution_count": 13,
     "metadata": {},
     "output_type": "execute_result"
    }
   ],
   "source": [
    "from sklearn.pipeline import Pipeline\n",
    "from crossai.pipelines.timeseries import ToPandas\n",
    "\n",
    "pipe = Pipeline([('Spectrogram', Spectrogram), ('ToPandas', ToPandas())])\n",
    "pipe.fit_transform(cai_audio_augmented)"
   ]
  },
  {
   "cell_type": "code",
   "execution_count": 14,
   "metadata": {},
   "outputs": [
    {
     "data": {
      "image/png": "[encoded data removed]",
      "text/plain": [
       "<Figure size 1400x600 with 1 Axes>"
      ]
     },
     "metadata": {},
     "output_type": "display_data"
    }
   ],
   "source": [
    "import librosa\n",
    "import librosa.display\n",
    "plt.figure(figsize=(14, 6))\n",
    "librosa.display.specshow(cai_audio_augmented.data[0],\n",
    "                         x_axis='time',\n",
    "                         y_axis='mel',\n",
    "                         fmax=8000)\n",
    "plt.show()"
   ]
  },
  {
   "cell_type": "markdown",
   "metadata": {},
   "source": [
    "## 2D Augmentation - SpecAugment "
   ]
  },
  {
   "cell_type": "code",
   "execution_count": 15,
   "metadata": {},
   "outputs": [],
   "source": [
    "from crossai.processing.augment import spec_augment\n",
    "spec = Augmenter(\n",
    "    spec_augment,\n",
    "    augment_times=1,\n",
    "    masks=2,\n",
    "    freq_masking=0.15,\n",
    "    time_masking=0.15\n",
    ")\n",
    "Augmentations2D = [spec]\n",
    "\n",
    "cai_audio_spec_augmentned = augment_signal_data(cai_audio_augmented, Augmentations2D)"
   ]
  },
  {
   "cell_type": "code",
   "execution_count": 16,
   "metadata": {},
   "outputs": [
    {
     "data": {
      "text/plain": [
       "0        [[-0.6343498, -0.08761597, -0.99645615, -0.996...\n",
       "1        [[-0.63567734, -0.08831787, -0.9963665, -0.996...\n",
       "2        [[-0.6350212, -0.08856964, -0.99596405, -0.997...\n",
       "3        [[-0.64154625, -0.092659, -1.0012989, -1.00260...\n",
       "4        [[-0.6328125, -0.085948944, -0.994545, -0.9946...\n",
       "                               ...                        \n",
       "23995    [[-15.144402, -14.598293, -15.50597, -15.50597...\n",
       "23996    [[-14.965626, -14.418396, -15.332745, -15.3305...\n",
       "23997    [[-14.380295, -13.832924, -14.741829, -14.7417...\n",
       "23998    [[-17.395657, -16.84667, -17.756647, -17.75651...\n",
       "23999    [[-17.971622, -17.425156, -18.334549, -18.3340...\n",
       "Length: 24000, dtype: object"
      ]
     },
     "execution_count": 16,
     "metadata": {},
     "output_type": "execute_result"
    }
   ],
   "source": [
    "cai_audio_augmented.data"
   ]
  }
 ],
 "metadata": {
  "kernelspec": {
   "display_name": "Python 3 (ipykernel)",
   "language": "python",
   "name": "python3"
  },
  "language_info": {
   "codemirror_mode": {
    "name": "ipython",
    "version": 3
   },
   "file_extension": ".py",
   "mimetype": "text/x-python",
   "name": "python",
   "nbconvert_exporter": "python",
   "pygments_lexer": "ipython3",
   "version": "3.11.6"
  }
 },
 "nbformat": 4,
 "nbformat_minor": 2
}
