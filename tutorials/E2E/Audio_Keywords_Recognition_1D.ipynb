{
 "cells": [
  {
   "cell_type": "markdown",
   "id": "d74d161f",
   "metadata": {},
   "source": [
    "# Audio Speech Commands Recognition\n",
    "\n",
    "* Data Repository: https://upatrasgr-my.sharepoint.com/:u:/g/personal/ceid3565_upatras_gr/EcUKreKCY0tHvjjfma33pkwBTU522U-WKjrRaJgnQ_ghLg?e=2w6Bdd\n",
    "* The tutorial is based on: https://www.tensorflow.org/tutorials/audio/simple_audio"
   ]
  },
  {
   "cell_type": "code",
   "execution_count": 1,
   "id": "53e5a8c2",
   "metadata": {
    "ExecuteTime": {
     "end_time": "2023-11-29T13:47:40.713039892Z",
     "start_time": "2023-11-29T13:47:40.710507571Z"
    }
   },
   "outputs": [],
   "source": [
    "# Loads the autoreload extension in Notebook\n",
    "%load_ext autoreload\n",
    "# Sets the autoreload mode to reload all modules before executing code\n",
    "%autoreload 2"
   ]
  },
  {
   "cell_type": "markdown",
   "id": "67b0685a",
   "metadata": {},
   "source": [
    "#### Imports\n",
    "Disable warnings"
   ]
  },
  {
   "cell_type": "code",
   "execution_count": 2,
   "id": "9f85fe49",
   "metadata": {
    "ExecuteTime": {
     "end_time": "2023-11-29T13:47:44.641264886Z",
     "start_time": "2023-11-29T13:47:42.986618277Z"
    }
   },
   "outputs": [],
   "source": [
    "import os\n",
    "# disable TF debug warnings and numpy import\n",
    "os.environ[\"CUDA_VISIBLE_DEVICES\"] = \"2\"\n",
    "os.environ[\"TF_CPP_MIN_LOG_LEVEL\"] = \"2\"\n",
    "\n",
    "import yaml\n",
    "from datetime import datetime\n",
    "import time\n",
    "\n",
    "import numpy as np\n",
    "import tensorflow as tf\n",
    "\n",
    "import IPython.display as ipd\n",
    "\n",
    "# To plot pretty figures\n",
    "%matplotlib inline\n",
    "import matplotlib as mpl\n",
    "import matplotlib.pyplot as plt\n",
    "mpl.rc('axes', labelsize=14)\n",
    "mpl.rc('xtick', labelsize=12)\n",
    "mpl.rc('ytick', labelsize=12)\n",
    "\n",
    "# Set the seed value for experiment reproducibility.\n",
    "seed = 42\n",
    "tf.random.set_seed(seed)\n",
    "np.random.seed(seed)\n",
    "\n",
    "# Disable Warnings for scikit-learn\n",
    "def warn(*args, **kwargs):\n",
    "    \"\"\"Eliminating warnings from scikit-learn.\n",
    "\n",
    "    \"\"\"\n",
    "    pass\n",
    "import warnings\n",
    "warnings.warn = warn"
   ]
  },
  {
   "cell_type": "code",
   "execution_count": 3,
   "id": "7b60ae78",
   "metadata": {
    "ExecuteTime": {
     "end_time": "2023-11-29T13:47:48.508846986Z",
     "start_time": "2023-11-29T13:47:48.467786274Z"
    }
   },
   "outputs": [
    {
     "name": "stdout",
     "output_type": "stream",
     "text": [
      "date and time of NB execution = 10/12/2023 14:05:27\n"
     ]
    }
   ],
   "source": [
    "now = datetime.now()\n",
    "print(\"date and time of NB execution =\", now.strftime(\"%d/%m/%Y %H:%M:%S\"))\n",
    "start_time = time.time()"
   ]
  },
  {
   "cell_type": "markdown",
   "id": "c3430fd7",
   "metadata": {},
   "source": [
    "## Load configuration file and dataset path"
   ]
  },
  {
   "cell_type": "markdown",
   "id": "788848dfcd492cd5",
   "metadata": {},
   "source": [
    "Append Parent Directory"
   ]
  },
  {
   "cell_type": "code",
   "execution_count": 4,
   "id": "9c36678d6cc74aac",
   "metadata": {
    "ExecuteTime": {
     "end_time": "2023-11-29T13:47:51.295344417Z",
     "start_time": "2023-11-29T13:47:51.262139298Z"
    }
   },
   "outputs": [],
   "source": [
    "import sys; sys.path.append('..')"
   ]
  },
  {
   "cell_type": "markdown",
   "id": "936e6963c2717d27",
   "metadata": {},
   "source": [
    "Import Configuration Module "
   ]
  },
  {
   "cell_type": "code",
   "execution_count": 5,
   "id": "f2a423f0",
   "metadata": {
    "ExecuteTime": {
     "end_time": "2023-11-29T13:47:58.331921189Z",
     "start_time": "2023-11-29T13:47:58.290421574Z"
    }
   },
   "outputs": [],
   "source": [
    "from utils import load_config"
   ]
  },
  {
   "cell_type": "markdown",
   "id": "6979aad9436eba9a",
   "metadata": {},
   "source": [
    "Load configuration file"
   ]
  },
  {
   "cell_type": "code",
   "execution_count": 6,
   "id": "d936c75f5095cee6",
   "metadata": {
    "ExecuteTime": {
     "end_time": "2023-11-29T13:48:12.399763938Z",
     "start_time": "2023-11-29T13:48:12.338265448Z"
    }
   },
   "outputs": [],
   "source": [
    "config = load_config(\"../config.yml\")"
   ]
  },
  {
   "cell_type": "code",
   "execution_count": 7,
   "id": "085ba4f8",
   "metadata": {
    "ExecuteTime": {
     "end_time": "2023-11-29T13:48:32.299265296Z",
     "start_time": "2023-11-29T13:48:31.891428963Z"
    }
   },
   "outputs": [],
   "source": [
    "# define variables for data path and sample rate\n",
    "DATASET_PATH = config[\"TRAINING_DATA_PATH\"]\n",
    "SAMPLE_RATE = 16000"
   ]
  },
  {
   "cell_type": "markdown",
   "id": "98e82cdd",
   "metadata": {},
   "source": [
    "## Load data \n",
    "The audio clips are approximately 1 second at 16kHz."
   ]
  },
  {
   "cell_type": "code",
   "execution_count": 8,
   "id": "d1caf5e2",
   "metadata": {
    "ExecuteTime": {
     "end_time": "2023-11-29T13:48:39.500938203Z",
     "start_time": "2023-11-29T13:48:38.790906686Z"
    }
   },
   "outputs": [
    {
     "name": "stderr",
     "output_type": "stream",
     "text": [
      "Loaded data into the dataframe: 100%|██████████| 10/10 [00:06<00:00,  1.57it/s]                                                   \n"
     ]
    }
   ],
   "source": [
    "from crossai.loader import audio_loader\n",
    "\n",
    "# All signals are resampled at `SAMPLE_RATE` and normalised (0, 1)\n",
    "df = audio_loader(path=DATASET_PATH, sr=SAMPLE_RATE)"
   ]
  },
  {
   "cell_type": "markdown",
   "id": "63c5ae0259c740c",
   "metadata": {},
   "source": [
    "Create a crossai audio object which will be used for the exploitation of the data processing pipeline.\n",
    "\n",
    "`cai_audio.data` holds the data in a dataframe: each row/signal is `np.float32`  \n",
    "and `cai_audio.lalbels` holds the data labels in a dataframe"
   ]
  },
  {
   "cell_type": "code",
   "execution_count": 9,
   "id": "b5691d48b7b1c439",
   "metadata": {
    "ExecuteTime": {
     "start_time": "2023-11-29T13:47:24.307337303Z"
    }
   },
   "outputs": [
    {
     "data": {
      "text/plain": [
       "0    [0.506821, 0.50676304, 0.50670505, 0.5071688, ...\n",
       "1    [0.53376144, 0.5336966, 0.5336966, 0.5336966, ...\n",
       "2    [0.6036141, 0.6044156, 0.6044885, 0.6037598, 0...\n",
       "3    [0.4621682, 0.45547011, 0.4510047, 0.44058546,...\n",
       "4    [0.5535465, 0.5521018, 0.55163574, 0.5524979, ...\n",
       "Name: data, dtype: object"
      ]
     },
     "execution_count": 9,
     "metadata": {},
     "output_type": "execute_result"
    }
   ],
   "source": [
    "from crossai.pipelines.audio import Audio\n",
    "\n",
    "cai_audio = Audio(df)\n",
    "cai_audio.data.head()"
   ]
  },
  {
   "cell_type": "markdown",
   "id": "d92bdc8d604d9941",
   "metadata": {},
   "source": [
    "#### Show audio commands"
   ]
  },
  {
   "cell_type": "code",
   "execution_count": 10,
   "id": "20bd649639a1d5c0",
   "metadata": {
    "ExecuteTime": {
     "start_time": "2023-11-29T13:47:24.309649977Z"
    }
   },
   "outputs": [
    {
     "data": {
      "text/plain": [
       "array(['down', 'go', 'left', 'no', 'right', 'stop', 'up', 'yes'],\n",
       "      dtype=object)"
      ]
     },
     "execution_count": 10,
     "metadata": {},
     "output_type": "execute_result"
    }
   ],
   "source": [
    "np.unique(cai_audio.labels)"
   ]
  }
 ],
 "metadata": {
  "kernelspec": {
   "display_name": "Python 3 (ipykernel)",
   "language": "python",
   "name": "python3"
  },
  "language_info": {
   "codemirror_mode": {
    "name": "ipython",
    "version": 3
   },
   "file_extension": ".py",
   "mimetype": "text/x-python",
   "name": "python",
   "nbconvert_exporter": "python",
   "pygments_lexer": "ipython3",
   "version": "3.11.6"
  }
 },
 "nbformat": 4,
 "nbformat_minor": 5
}
