{
 "cells": [
  {
   "cell_type": "markdown",
   "metadata": {},
   "source": [
    "## E2E example on GestureSet Dataset"
   ]
  },
  {
   "cell_type": "markdown",
   "metadata": {},
   "source": [
    "#### Import Configuration Module"
   ]
  },
  {
   "cell_type": "code",
   "execution_count": 1,
   "metadata": {},
   "outputs": [],
   "source": [
    "# pd.options.mode.chained_assignment = None  # default='warn'\n",
    "import yaml"
   ]
  },
  {
   "cell_type": "markdown",
   "metadata": {},
   "source": [
    "Load configuration file"
   ]
  },
  {
   "cell_type": "code",
   "execution_count": 2,
   "metadata": {},
   "outputs": [],
   "source": [
    "with open(\"../config.yml\", \"r\") as stream:\n",
    "    try:\n",
    "        config = yaml.safe_load(stream)\n",
    "    except yaml.YAMLError as exc:\n",
    "        print(exc)"
   ]
  },
  {
   "cell_type": "markdown",
   "metadata": {},
   "source": [
    "#### Load Tabular-like data with more than one dimension/column"
   ]
  },
  {
   "cell_type": "code",
   "execution_count": 3,
   "metadata": {},
   "outputs": [
    {
     "name": "stdout",
     "output_type": "stream",
     "text": [
      "Loaded classes: ['03a', '02a']\n"
     ]
    },
    {
     "data": {
      "text/html": [
       "<div>\n",
       "<style scoped>\n",
       "    .dataframe tbody tr th:only-of-type {\n",
       "        vertical-align: middle;\n",
       "    }\n",
       "\n",
       "    .dataframe tbody tr th {\n",
       "        vertical-align: top;\n",
       "    }\n",
       "\n",
       "    .dataframe thead th {\n",
       "        text-align: right;\n",
       "    }\n",
       "</style>\n",
       "<table border=\"1\" class=\"dataframe\">\n",
       "  <thead>\n",
       "    <tr style=\"text-align: right;\">\n",
       "      <th></th>\n",
       "      <th>instance</th>\n",
       "      <th>label</th>\n",
       "      <th>feature</th>\n",
       "      <th>data</th>\n",
       "    </tr>\n",
       "  </thead>\n",
       "  <tbody>\n",
       "    <tr>\n",
       "      <th>0</th>\n",
       "      <td>1</td>\n",
       "      <td>03a</td>\n",
       "      <td>acc_x_axis_g</td>\n",
       "      <td>[1.332, 1.254, 1.128, 1.063, 0.977, 0.836, 0.6...</td>\n",
       "    </tr>\n",
       "    <tr>\n",
       "      <th>1</th>\n",
       "      <td>1</td>\n",
       "      <td>03a</td>\n",
       "      <td>acc_y_axis_g</td>\n",
       "      <td>[0.011, 0.113, 0.218, 0.291, 0.363, 0.487, 0.6...</td>\n",
       "    </tr>\n",
       "    <tr>\n",
       "      <th>2</th>\n",
       "      <td>1</td>\n",
       "      <td>03a</td>\n",
       "      <td>acc_z_axis_g</td>\n",
       "      <td>[1.007, 0.745, 0.47, 0.25, 0.037, -0.053, -0.0...</td>\n",
       "    </tr>\n",
       "    <tr>\n",
       "      <th>3</th>\n",
       "      <td>1</td>\n",
       "      <td>03a</td>\n",
       "      <td>gyr_x_axis_deg/s</td>\n",
       "      <td>[-10.553, 19.642, 38.552, 48.495, 56.913, 64.0...</td>\n",
       "    </tr>\n",
       "    <tr>\n",
       "      <th>4</th>\n",
       "      <td>1</td>\n",
       "      <td>03a</td>\n",
       "      <td>gyr_y_axis_deg/s</td>\n",
       "      <td>[-127.673, -130.54, -130.174, -118.34, -86.742...</td>\n",
       "    </tr>\n",
       "  </tbody>\n",
       "</table>\n",
       "</div>"
      ],
      "text/plain": [
       "  instance label           feature  \\\n",
       "0        1   03a      acc_x_axis_g   \n",
       "1        1   03a      acc_y_axis_g   \n",
       "2        1   03a      acc_z_axis_g   \n",
       "3        1   03a  gyr_x_axis_deg/s   \n",
       "4        1   03a  gyr_y_axis_deg/s   \n",
       "\n",
       "                                                data  \n",
       "0  [1.332, 1.254, 1.128, 1.063, 0.977, 0.836, 0.6...  \n",
       "1  [0.011, 0.113, 0.218, 0.291, 0.363, 0.487, 0.6...  \n",
       "2  [1.007, 0.745, 0.47, 0.25, 0.037, -0.053, -0.0...  \n",
       "3  [-10.553, 19.642, 38.552, 48.495, 56.913, 64.0...  \n",
       "4  [-127.673, -130.54, -130.174, -118.34, -86.742...  "
      ]
     },
     "execution_count": 3,
     "metadata": {},
     "output_type": "execute_result"
    }
   ],
   "source": [
    "from crossai.loader import csv_loader\n",
    "\n",
    "data_dir_path = config['PATH']['RAW']['GESTURE_SET'] + '/allergic_rhinitis/train'\n",
    "df = csv_loader(path=data_dir_path)\n",
    "df.head()"
   ]
  },
  {
   "cell_type": "markdown",
   "metadata": {},
   "source": [
    "#### Create CrossAI Tabular Data Object to be Used for the Pipeline"
   ]
  },
  {
   "cell_type": "code",
   "execution_count": 4,
   "metadata": {},
   "outputs": [],
   "source": [
    "from crossai.pipelines.tabular import Tabular\n",
    "\n",
    "cai_tabular = Tabular(df)"
   ]
  },
  {
   "cell_type": "code",
   "execution_count": 5,
   "metadata": {},
   "outputs": [
    {
     "name": "stdout",
     "output_type": "stream",
     "text": [
      "0          acc_x_axis_g\n",
      "1          acc_y_axis_g\n",
      "2          acc_z_axis_g\n",
      "3      gyr_x_axis_deg/s\n",
      "4      gyr_y_axis_deg/s\n",
      "             ...       \n",
      "547        acc_y_axis_g\n",
      "548        acc_z_axis_g\n",
      "549    gyr_x_axis_deg/s\n",
      "550    gyr_y_axis_deg/s\n",
      "551    gyr_z_axis_deg/s\n",
      "Name: feature, Length: 552, dtype: object\n",
      "0      03a\n",
      "1      03a\n",
      "2      03a\n",
      "3      03a\n",
      "4      03a\n",
      "      ... \n",
      "547    02a\n",
      "548    02a\n",
      "549    02a\n",
      "550    02a\n",
      "551    02a\n",
      "Name: label, Length: 552, dtype: object\n",
      "0      [1.332, 1.254, 1.128, 1.063, 0.977, 0.836, 0.6...\n",
      "1      [0.011, 0.113, 0.218, 0.291, 0.363, 0.487, 0.6...\n",
      "2      [1.007, 0.745, 0.47, 0.25, 0.037, -0.053, -0.0...\n",
      "3      [-10.553, 19.642, 38.552, 48.495, 56.913, 64.0...\n",
      "4      [-127.673, -130.54, -130.174, -118.34, -86.742...\n",
      "                             ...                        \n",
      "547    [0.59, 0.552, 0.596, 0.725, 0.823, 0.852, 0.88...\n",
      "548    [-0.033, 0.052, 0.154, 0.153, 0.102, 0.038, -0...\n",
      "549    [50.691, 42.334, 37.088, 38.552, 40.809, 38.49...\n",
      "550    [-13.847, 26.779, 54.473, 76.372, 100.528, 131...\n",
      "551    [-42.09, -31.232, -24.217, -17.08, -7.503, 1.3...\n",
      "Name: data, Length: 552, dtype: object\n",
      "0       1\n",
      "1       1\n",
      "2       1\n",
      "3       1\n",
      "4       1\n",
      "       ..\n",
      "547    92\n",
      "548    92\n",
      "549    92\n",
      "550    92\n",
      "551    92\n",
      "Name: instance, Length: 552, dtype: object\n"
     ]
    }
   ],
   "source": [
    "print(cai_tabular.feature)\n",
    "print(cai_tabular.labels)\n",
    "print(cai_tabular.data)\n",
    "print(cai_tabular.instance)"
   ]
  },
  {
   "cell_type": "code",
   "execution_count": 6,
   "metadata": {},
   "outputs": [
    {
     "name": "stdout",
     "output_type": "stream",
     "text": [
      "(552,)\n",
      "(1512,)\n",
      "()\n",
      "(552,)\n"
     ]
    }
   ],
   "source": [
    "print(cai_tabular.data.shape)\n",
    "print(cai_tabular.data[0].shape)\n",
    "print(cai_tabular.data[0][0].shape)\n",
    "print(cai_tabular.labels.shape)"
   ]
  },
  {
   "cell_type": "markdown",
   "metadata": {},
   "source": [
    "##### Contruct Pipeline"
   ]
  },
  {
   "cell_type": "code",
   "execution_count": 7,
   "metadata": {},
   "outputs": [],
   "source": [
    "from sklearn.preprocessing import StandardScaler\n",
    "from sklearn.preprocessing import LabelEncoder\n",
    "from sklearn.pipeline import Pipeline\n",
    "\n",
    "from crossai.pipelines.timeseries import Transformer\n",
    "from crossai.processing import encode_labels\n",
    "from crossai.pipelines import TimeMeasurementWrapper\n",
    "from crossai.pipelines.timeseries import PadOrTrim\n",
    "from crossai.pipelines.tabular import MagnitudeExtractor, AxisToModelShape, \\\n",
    "    MultiAxisSlidingWindow\n",
    "from crossai.pipelines.motion import PureAccExtractor\n",
    "from crossai.pipelines.preparation import Scaler\n",
    "from crossai.pipelines.timeseries import ToPandas\n",
    "\n",
    "ME = TimeMeasurementWrapper(\n",
    "    MagnitudeExtractor(\n",
    "        [[['acc_x_axis_g','acc_y_axis_g','acc_z_axis_g'],'acc_mag'],\n",
    "        [['gyr_x_axis_deg/s','gyr_y_axis_deg/s','gyr_z_axis_deg/s'],'gyr_mag']]\n",
    "    )\n",
    ")\n",
    "PAX = TimeMeasurementWrapper(\n",
    "    PureAccExtractor(\n",
    "        Fs=100,\n",
    "        acc_x='acc_x_axis_g',\n",
    "        acc_y='acc_y_axis_g',\n",
    "        acc_z='acc_z_axis_g'\n",
    "    )\n",
    ")\n",
    "POT = PadOrTrim(fill_value=0, pad_type='mean')\n",
    "MSW = MultiAxisSlidingWindow(window_size=50, step_size=25)\n",
    "SS = Scaler(StandardScaler())\n",
    "AXMS = AxisToModelShape()\n",
    "LE = Transformer(encode_labels)\n",
    "TP = ToPandas()"
   ]
  },
  {
   "cell_type": "code",
   "execution_count": 8,
   "metadata": {},
   "outputs": [
    {
     "name": "stdout",
     "output_type": "stream",
     "text": [
      "Transformer MagnitudeExtractor took 0.00 seconds to fit.\n",
      "Transformer MagnitudeExtractor took 0.10 seconds to transform.\n"
     ]
    },
    {
     "data": {
      "text/plain": [
       "<crossai.pipelines.tabular.Tabular at 0x7ff47d9f5c10>"
      ]
     },
     "execution_count": 8,
     "metadata": {},
     "output_type": "execute_result"
    }
   ],
   "source": [
    "pipe = Pipeline([\n",
    "    ('magex', ME),\n",
    "    ('POT', POT),\n",
    "    ('MSW', MSW),\n",
    "    ('SS', SS),\n",
    "    ('AXMS', AXMS),\n",
    "    # ('LE', LE),\n",
    "    # ('TP', TP)\n",
    "])\n",
    "pipe.fit_transform(cai_tabular)"
   ]
  },
  {
   "cell_type": "markdown",
   "metadata": {},
   "source": [
    "#### Overview of CrossAI Tabular Data Object"
   ]
  },
  {
   "cell_type": "code",
   "execution_count": 9,
   "metadata": {},
   "outputs": [
    {
     "name": "stdout",
     "output_type": "stream",
     "text": [
      "['acc_x_axis_g', 'acc_x_axis_g', 'acc_x_axis_g', 'acc_x_axis_g', 'acc_x_axis_g'] <class 'list'>\n",
      "['03a' '03a' '03a' '03a' '03a'] <class 'numpy.ndarray'>\n",
      "[[[-0.17649715 -0.19173455 -0.18024594 ... -0.54718953 -0.17260015\n",
      "    1.3279581 ]\n",
      "  [-0.17957743 -0.1927242  -0.1854422  ... -0.7619299  -0.17716952\n",
      "    1.4295673 ]\n",
      "  [-0.1821363  -0.19264282 -0.18973333 ... -0.8952167  -0.18082827\n",
      "    1.5215306 ]\n",
      "  ...\n",
      "  [-0.18803133 -0.18833739 -0.19621243 ...  0.9230919  -0.1854552\n",
      "    2.1301134 ]\n",
      "  [-0.18713923 -0.19044158 -0.18775034 ...  1.1336176  -0.1840271\n",
      "    2.5132542 ]\n",
      "  [-0.18603176 -0.19362089 -0.18108945 ...  1.0447536  -0.17881137\n",
      "    2.2335916 ]]\n",
      "\n",
      " [[-0.18842407 -0.18327959 -0.19239202 ... -1.1417483  -0.18260156\n",
      "    1.3118609 ]\n",
      "  [-0.19724087 -0.18355256 -0.19780546 ... -0.676885   -0.1824368\n",
      "    1.0713362 ]\n",
      "  [-0.20325322 -0.1849419  -0.2026875  ... -0.12825291 -0.18010731\n",
      "    0.7018813 ]\n",
      "  ...\n",
      "  [-0.17440008 -0.19791928 -0.18406437 ... -0.78443956 -0.1716479\n",
      "    1.2152058 ]\n",
      "  [-0.17868942 -0.19709331 -0.18958367 ... -1.1840646  -0.17776635\n",
      "    2.1290877 ]\n",
      "  [-0.17977776 -0.19492088 -0.19082181 ... -1.3878075  -0.17939389\n",
      "    2.700733  ]]\n",
      "\n",
      " [[-0.17931162 -0.19438754 -0.17596655 ...  0.7193264  -0.17145245\n",
      "    1.3771733 ]\n",
      "  [-0.17454225 -0.19702195 -0.17772235 ...  0.56435025 -0.16844466\n",
      "    0.7425348 ]\n",
      "  [-0.17291136 -0.19652216 -0.18055457 ...  0.43306035 -0.16851094\n",
      "    0.4907732 ]\n",
      "  ...\n",
      "  [-0.19896694 -0.183311   -0.2014978  ... -0.66380656 -0.18025133\n",
      "    0.86432767]\n",
      "  [-0.20500253 -0.18085182 -0.20819911 ... -0.02056385 -0.17181529\n",
      "    0.19228587]\n",
      "  [-0.20300187 -0.18110117 -0.21041535 ...  0.54681087 -0.17131275\n",
      "    0.74253076]]\n",
      "\n",
      " [[-0.1761165  -0.19029272 -0.18832028 ... -1.5343682  -0.17564712\n",
      "    2.6548138 ]\n",
      "  [-0.18072963 -0.19152589 -0.18980908 ... -1.6784478  -0.1798546\n",
      "    2.2169967 ]\n",
      "  [-0.18696238 -0.19218099 -0.19190389 ... -1.6262621  -0.18585004\n",
      "    1.7227359 ]\n",
      "  ...\n",
      "  [-0.18203971 -0.1973778  -0.17941467 ...  0.9187836  -0.17479452\n",
      "    2.161801  ]\n",
      "  [-0.17450564 -0.19837432 -0.1775612  ...  0.6332333  -0.1681163\n",
      "    1.288592  ]\n",
      "  [-0.16896793 -0.19684158 -0.1770958  ...  0.54181004 -0.16365248\n",
      "    0.7525368 ]]\n",
      "\n",
      " [[-0.18934685 -0.18246062 -0.20391525 ...  0.82979465 -0.17636973\n",
      "    1.5864451 ]\n",
      "  [-0.1840941  -0.18823056 -0.19939552 ...  1.1146828  -0.18133503\n",
      "    2.391329  ]\n",
      "  [-0.18713555 -0.19290836 -0.19260818 ...  1.3451064  -0.18644385\n",
      "    2.9816318 ]\n",
      "  ...\n",
      "  [-0.17822577 -0.19133908 -0.19071521 ... -1.7164733  -0.17760184\n",
      "    2.651242  ]\n",
      "  [-0.18257938 -0.19144052 -0.19117022 ... -1.8321269  -0.18193914\n",
      "    2.281166  ]\n",
      "  [-0.1896038  -0.19010739 -0.19372629 ... -1.7092913  -0.18810761\n",
      "    2.0432272 ]]] <class 'numpy.ndarray'>\n",
      "['1_0', '1_1', '1_2', '1_3', '1_4'] <class 'list'>\n"
     ]
    }
   ],
   "source": [
    "print(cai_tabular.feature[:5], type(cai_tabular.feature))\n",
    "print(cai_tabular.labels[:5],type(cai_tabular.labels))\n",
    "print(cai_tabular.data[:5], type(cai_tabular.data))\n",
    "print(cai_tabular.instance[:5], type(cai_tabular.instance))"
   ]
  },
  {
   "cell_type": "code",
   "execution_count": 10,
   "metadata": {},
   "outputs": [
    {
     "name": "stdout",
     "output_type": "stream",
     "text": [
      "(5060, 50, 8)\n",
      "(50, 8)\n",
      "(8,)\n",
      "(5060,)\n"
     ]
    }
   ],
   "source": [
    "print(cai_tabular.data.shape)\n",
    "print(cai_tabular.data[0].shape)\n",
    "print(cai_tabular.data[0][0].shape)\n",
    "print(cai_tabular.labels.shape)"
   ]
  },
  {
   "cell_type": "markdown",
   "metadata": {},
   "source": [
    "#### Data Preparation for training"
   ]
  },
  {
   "cell_type": "code",
   "execution_count": 11,
   "metadata": {},
   "outputs": [],
   "source": [
    "# import numpy as np\n",
    "# X = np.stack(cai_tabular.data.values, axis=0, dtype=np.float32)\n",
    "# class_labels = cai_tabular.labels.values"
   ]
  },
  {
   "cell_type": "code",
   "execution_count": 12,
   "metadata": {},
   "outputs": [],
   "source": [
    "# class_labels[:2]"
   ]
  },
  {
   "cell_type": "code",
   "execution_count": 13,
   "metadata": {},
   "outputs": [],
   "source": [
    "from sklearn.model_selection import train_test_split\n",
    "X_train, X_test, y_train, y_test = train_test_split(cai_tabular.data,\n",
    "                                                    cai_tabular.labels,\n",
    "                                                    test_size=0.2,\n",
    "                                                    random_state=42)"
   ]
  },
  {
   "cell_type": "code",
   "execution_count": 14,
   "metadata": {},
   "outputs": [
    {
     "data": {
      "text/plain": [
       "((4048, 50, 8), (1012, 50, 8))"
      ]
     },
     "execution_count": 14,
     "metadata": {},
     "output_type": "execute_result"
    }
   ],
   "source": [
    "X_train.shape, X_test.shape"
   ]
  },
  {
   "cell_type": "code",
   "execution_count": 15,
   "metadata": {},
   "outputs": [
    {
     "data": {
      "text/plain": [
       "((4048,), (1012,))"
      ]
     },
     "execution_count": 15,
     "metadata": {},
     "output_type": "execute_result"
    }
   ],
   "source": [
    "y_train.shape, y_test.shape"
   ]
  },
  {
   "cell_type": "code",
   "execution_count": 16,
   "metadata": {},
   "outputs": [],
   "source": [
    "from sklearn.preprocessing import LabelEncoder\n",
    "le = LabelEncoder()\n",
    "y_train = le.fit_transform(y_train)\n",
    "y_test = le.fit_transform(y_test)"
   ]
  },
  {
   "cell_type": "code",
   "execution_count": 17,
   "metadata": {},
   "outputs": [
    {
     "data": {
      "text/plain": [
       "(array([0, 1]), array([0, 0]))"
      ]
     },
     "execution_count": 17,
     "metadata": {},
     "output_type": "execute_result"
    }
   ],
   "source": [
    "y_train[:2], y_test[:2]"
   ]
  },
  {
   "cell_type": "markdown",
   "metadata": {},
   "source": [
    "#### Create AI Model through CrossAI module"
   ]
  },
  {
   "cell_type": "code",
   "execution_count": 18,
   "metadata": {},
   "outputs": [
    {
     "name": "stderr",
     "output_type": "stream",
     "text": [
      "2023-11-19 13:45:26.884448: I tensorflow/core/platform/cpu_feature_guard.cc:182] This TensorFlow binary is optimized to use available CPU instructions in performance-critical operations.\n",
      "To enable the following instructions: AVX2 FMA, in other operations, rebuild TensorFlow with the appropriate compiler flags.\n",
      "2023-11-19 13:45:28.108596: W tensorflow/compiler/tf2tensorrt/utils/py_utils.cc:38] TF-TRT Warning: Could not find TensorRT\n"
     ]
    },
    {
     "name": "stdout",
     "output_type": "stream",
     "text": [
      "Model: \"model\"\n",
      "_________________________________________________________________\n",
      " Layer (type)                Output Shape              Param #   \n",
      "=================================================================\n",
      " input_layer (InputLayer)    [(None, 50, 8)]           0         \n",
      "                                                                 \n",
      " conv1d (Conv1D)             (None, 48, 64)            1600      \n",
      "                                                                 \n",
      " conv1d_1 (Conv1D)           (None, 46, 64)            12352     \n",
      "                                                                 \n",
      " max_pooling1d (MaxPooling1  (None, 15, 64)            0         \n",
      " D)                                                              \n",
      "                                                                 \n",
      " conv1d_2 (Conv1D)           (None, 13, 128)           24704     \n",
      "                                                                 \n",
      " conv1d_3 (Conv1D)           (None, 11, 128)           49280     \n",
      "                                                                 \n",
      " global_average_pooling1d (  (None, 128)               0         \n",
      " GlobalAveragePooling1D)                                         \n",
      "                                                                 \n",
      " mc_dropout (MCDropout)      (None, 128)               0         \n",
      "                                                                 \n",
      " flatten (Flatten)           (None, 128)               0         \n",
      "                                                                 \n",
      " dense (Dense)               (None, 2)                 258       \n",
      "                                                                 \n",
      "=================================================================\n",
      "Total params: 88194 (344.51 KB)\n",
      "Trainable params: 88194 (344.51 KB)\n",
      "Non-trainable params: 0 (0.00 Byte)\n",
      "_________________________________________________________________\n"
     ]
    },
    {
     "name": "stderr",
     "output_type": "stream",
     "text": [
      "2023-11-19 13:45:33.104381: W tensorflow/core/common_runtime/gpu/gpu_device.cc:1960] Cannot dlopen some GPU libraries. Please make sure the missing libraries mentioned above are installed properly if you would like to use GPU. Follow the guide at https://www.tensorflow.org/install/gpu for how to download and setup the required libraries for your platform.\n",
      "Skipping registering GPU devices...\n"
     ]
    }
   ],
   "source": [
    "from crossai.ai.nn1d import CNN1D\n",
    "\n",
    "cnn1d = CNN1D(\n",
    "    input_shape=X_train.shape[1:],\n",
    "    include_top=True,\n",
    "    num_classes=2,\n",
    "    classifier_activation=\"softmax\",\n",
    "    drp=.5,\n",
    "    spatial=False,\n",
    "    mc_inference=None\n",
    ")\n",
    "\n",
    "cnn1d.summary()"
   ]
  },
  {
   "cell_type": "code",
   "execution_count": 19,
   "metadata": {},
   "outputs": [],
   "source": [
    "import tensorflow as tf\n",
    "from tensorflow.keras.callbacks import EarlyStopping, ReduceLROnPlateau\n",
    "\n",
    "early_stopping = EarlyStopping(monitor='val_loss', patience=10)\n",
    "reduce_lr = ReduceLROnPlateau(monitor='val_loss', factor=0.1, patience=5, min_lr=0.00001)"
   ]
  },
  {
   "cell_type": "code",
   "execution_count": 20,
   "metadata": {},
   "outputs": [],
   "source": [
    "cnn1d.compile(optimizer=tf.keras.optimizers.Adam(learning_rate=0.0001),\n",
    "              loss='sparse_categorical_crossentropy',\n",
    "              metrics=['accuracy'])"
   ]
  },
  {
   "cell_type": "code",
   "execution_count": 21,
   "metadata": {},
   "outputs": [
    {
     "name": "stdout",
     "output_type": "stream",
     "text": [
      "Epoch 1/100\n",
      "51/51 - 4s - loss: 0.5253 - accuracy: 0.6902 - val_loss: 0.3745 - val_accuracy: 0.8728 - lr: 1.0000e-04 - 4s/epoch - 79ms/step\n",
      "Epoch 2/100\n",
      "51/51 - 1s - loss: 0.2738 - accuracy: 0.9002 - val_loss: 0.1576 - val_accuracy: 0.9605 - lr: 1.0000e-04 - 752ms/epoch - 15ms/step\n",
      "Epoch 3/100\n",
      "51/51 - 1s - loss: 0.1506 - accuracy: 0.9444 - val_loss: 0.1059 - val_accuracy: 0.9605 - lr: 1.0000e-04 - 1s/epoch - 20ms/step\n",
      "Epoch 4/100\n",
      "51/51 - 0s - loss: 0.1254 - accuracy: 0.9450 - val_loss: 0.0959 - val_accuracy: 0.9605 - lr: 1.0000e-04 - 496ms/epoch - 10ms/step\n",
      "Epoch 5/100\n",
      "51/51 - 2s - loss: 0.1167 - accuracy: 0.9450 - val_loss: 0.0919 - val_accuracy: 0.9605 - lr: 1.0000e-04 - 2s/epoch - 44ms/step\n",
      "Epoch 6/100\n",
      "51/51 - 0s - loss: 0.1133 - accuracy: 0.9456 - val_loss: 0.0911 - val_accuracy: 0.9605 - lr: 1.0000e-04 - 419ms/epoch - 8ms/step\n",
      "Epoch 7/100\n",
      "51/51 - 0s - loss: 0.1111 - accuracy: 0.9466 - val_loss: 0.0916 - val_accuracy: 0.9605 - lr: 1.0000e-04 - 475ms/epoch - 9ms/step\n",
      "Epoch 8/100\n",
      "51/51 - 1s - loss: 0.1145 - accuracy: 0.9456 - val_loss: 0.0913 - val_accuracy: 0.9605 - lr: 1.0000e-04 - 640ms/epoch - 13ms/step\n",
      "Epoch 9/100\n",
      "51/51 - 1s - loss: 0.1105 - accuracy: 0.9460 - val_loss: 0.0894 - val_accuracy: 0.9605 - lr: 1.0000e-04 - 743ms/epoch - 15ms/step\n",
      "Epoch 10/100\n",
      "51/51 - 1s - loss: 0.1106 - accuracy: 0.9456 - val_loss: 0.0892 - val_accuracy: 0.9605 - lr: 1.0000e-04 - 534ms/epoch - 10ms/step\n",
      "Epoch 11/100\n",
      "51/51 - 0s - loss: 0.1111 - accuracy: 0.9456 - val_loss: 0.0882 - val_accuracy: 0.9605 - lr: 1.0000e-04 - 485ms/epoch - 10ms/step\n",
      "Epoch 12/100\n",
      "51/51 - 0s - loss: 0.1092 - accuracy: 0.9463 - val_loss: 0.0873 - val_accuracy: 0.9605 - lr: 1.0000e-04 - 467ms/epoch - 9ms/step\n",
      "Epoch 13/100\n",
      "51/51 - 0s - loss: 0.1104 - accuracy: 0.9460 - val_loss: 0.0878 - val_accuracy: 0.9605 - lr: 1.0000e-04 - 472ms/epoch - 9ms/step\n",
      "Epoch 14/100\n",
      "51/51 - 1s - loss: 0.1080 - accuracy: 0.9456 - val_loss: 0.0874 - val_accuracy: 0.9605 - lr: 1.0000e-04 - 500ms/epoch - 10ms/step\n",
      "Epoch 15/100\n",
      "51/51 - 0s - loss: 0.1090 - accuracy: 0.9466 - val_loss: 0.0878 - val_accuracy: 0.9605 - lr: 1.0000e-04 - 489ms/epoch - 10ms/step\n",
      "Epoch 16/100\n",
      "51/51 - 0s - loss: 0.1079 - accuracy: 0.9463 - val_loss: 0.0891 - val_accuracy: 0.9605 - lr: 1.0000e-04 - 480ms/epoch - 9ms/step\n",
      "Epoch 17/100\n",
      "51/51 - 0s - loss: 0.1088 - accuracy: 0.9463 - val_loss: 0.0865 - val_accuracy: 0.9605 - lr: 1.0000e-04 - 475ms/epoch - 9ms/step\n",
      "Epoch 18/100\n",
      "51/51 - 0s - loss: 0.1075 - accuracy: 0.9460 - val_loss: 0.0872 - val_accuracy: 0.9605 - lr: 1.0000e-04 - 471ms/epoch - 9ms/step\n",
      "Epoch 19/100\n",
      "51/51 - 0s - loss: 0.1087 - accuracy: 0.9460 - val_loss: 0.0875 - val_accuracy: 0.9605 - lr: 1.0000e-04 - 479ms/epoch - 9ms/step\n",
      "Epoch 20/100\n",
      "51/51 - 0s - loss: 0.1077 - accuracy: 0.9463 - val_loss: 0.0868 - val_accuracy: 0.9605 - lr: 1.0000e-04 - 477ms/epoch - 9ms/step\n",
      "Epoch 21/100\n",
      "51/51 - 0s - loss: 0.1075 - accuracy: 0.9460 - val_loss: 0.0879 - val_accuracy: 0.9605 - lr: 1.0000e-04 - 471ms/epoch - 9ms/step\n",
      "Epoch 22/100\n",
      "51/51 - 0s - loss: 0.1082 - accuracy: 0.9456 - val_loss: 0.0866 - val_accuracy: 0.9605 - lr: 1.0000e-04 - 472ms/epoch - 9ms/step\n",
      "Epoch 23/100\n",
      "51/51 - 0s - loss: 0.1077 - accuracy: 0.9466 - val_loss: 0.0867 - val_accuracy: 0.9605 - lr: 1.0000e-05 - 466ms/epoch - 9ms/step\n",
      "Epoch 24/100\n",
      "51/51 - 0s - loss: 0.1069 - accuracy: 0.9463 - val_loss: 0.0868 - val_accuracy: 0.9605 - lr: 1.0000e-05 - 467ms/epoch - 9ms/step\n",
      "Epoch 25/100\n",
      "51/51 - 0s - loss: 0.1071 - accuracy: 0.9463 - val_loss: 0.0869 - val_accuracy: 0.9605 - lr: 1.0000e-05 - 489ms/epoch - 10ms/step\n",
      "Epoch 26/100\n",
      "51/51 - 0s - loss: 0.1073 - accuracy: 0.9463 - val_loss: 0.0870 - val_accuracy: 0.9605 - lr: 1.0000e-05 - 466ms/epoch - 9ms/step\n",
      "Epoch 27/100\n",
      "51/51 - 0s - loss: 0.1067 - accuracy: 0.9463 - val_loss: 0.0871 - val_accuracy: 0.9605 - lr: 1.0000e-05 - 477ms/epoch - 9ms/step\n"
     ]
    }
   ],
   "source": [
    "history = cnn1d.fit(X_train, y_train, epochs=100,\n",
    "                    validation_split=.2,\n",
    "                    verbose=2,\n",
    "                    batch_size=64,\n",
    "                    callbacks=[early_stopping, reduce_lr]\n",
    "                    )"
   ]
  },
  {
   "cell_type": "code",
   "execution_count": 22,
   "metadata": {},
   "outputs": [
    {
     "data": {
      "image/png": "[encoded data removed]",
      "text/plain": [
       "<Figure size 1000x1000 with 2 Axes>"
      ]
     },
     "metadata": {},
     "output_type": "display_data"
    }
   ],
   "source": [
    "import matplotlib.pyplot as plt\n",
    "import seaborn as sns\n",
    "\n",
    "fig, axs = plt.subplots(2, 1, figsize=(10, 10))\n",
    "axs[0].plot(history.history['loss'], label='train loss')\n",
    "axs[0].plot(history.history['val_loss'], label='val loss')\n",
    "axs[0].legend(loc='best')\n",
    "axs[0].set_title('Loss')\n",
    "\n",
    "axs[1].plot(history.history['accuracy'], label='train acc')\n",
    "axs[1].plot(history.history['val_accuracy'], label='val acc')\n",
    "axs[1].legend(loc='best')\n",
    "axs[1].set_title('Accuracy')\n",
    "\n",
    "plt.xlabel('Epochs')\n",
    "sns.despine()\n",
    "plt.show()"
   ]
  },
  {
   "cell_type": "markdown",
   "metadata": {},
   "source": [
    "## Train a statistical model"
   ]
  },
  {
   "cell_type": "markdown",
   "metadata": {},
   "source": [
    "##### Prepare data"
   ]
  },
  {
   "cell_type": "code",
   "execution_count": 23,
   "metadata": {},
   "outputs": [
    {
     "data": {
      "text/plain": [
       "((1012, 400), (1012, 400))"
      ]
     },
     "execution_count": 23,
     "metadata": {},
     "output_type": "execute_result"
    }
   ],
   "source": [
    "# flatten timesteps * axes\n",
    "X_train_flatten = X_train.reshape(X_train.shape[0], -1)\n",
    "X_test_flatten = X_test.reshape(X_test.shape[0], -1)\n",
    "\n",
    "X_test_flatten.shape, X_test_flatten.shape"
   ]
  },
  {
   "cell_type": "code",
   "execution_count": 24,
   "metadata": {},
   "outputs": [
    {
     "data": {
      "text/html": [
       "<style>#sk-container-id-1 {color: black;}#sk-container-id-1 pre{padding: 0;}#sk-container-id-1 div.sk-toggleable {background-color: white;}#sk-container-id-1 label.sk-toggleable__label {cursor: pointer;display: block;width: 100%;margin-bottom: 0;padding: 0.3em;box-sizing: border-box;text-align: center;}#sk-container-id-1 label.sk-toggleable__label-arrow:before {content: \"▸\";float: left;margin-right: 0.25em;color: #696969;}#sk-container-id-1 label.sk-toggleable__label-arrow:hover:before {color: black;}#sk-container-id-1 div.sk-estimator:hover label.sk-toggleable__label-arrow:before {color: black;}#sk-container-id-1 div.sk-toggleable__content {max-height: 0;max-width: 0;overflow: hidden;text-align: left;background-color: #f0f8ff;}#sk-container-id-1 div.sk-toggleable__content pre {margin: 0.2em;color: black;border-radius: 0.25em;background-color: #f0f8ff;}#sk-container-id-1 input.sk-toggleable__control:checked~div.sk-toggleable__content {max-height: 200px;max-width: 100%;overflow: auto;}#sk-container-id-1 input.sk-toggleable__control:checked~label.sk-toggleable__label-arrow:before {content: \"▾\";}#sk-container-id-1 div.sk-estimator input.sk-toggleable__control:checked~label.sk-toggleable__label {background-color: #d4ebff;}#sk-container-id-1 div.sk-label input.sk-toggleable__control:checked~label.sk-toggleable__label {background-color: #d4ebff;}#sk-container-id-1 input.sk-hidden--visually {border: 0;clip: rect(1px 1px 1px 1px);clip: rect(1px, 1px, 1px, 1px);height: 1px;margin: -1px;overflow: hidden;padding: 0;position: absolute;width: 1px;}#sk-container-id-1 div.sk-estimator {font-family: monospace;background-color: #f0f8ff;border: 1px dotted black;border-radius: 0.25em;box-sizing: border-box;margin-bottom: 0.5em;}#sk-container-id-1 div.sk-estimator:hover {background-color: #d4ebff;}#sk-container-id-1 div.sk-parallel-item::after {content: \"\";width: 100%;border-bottom: 1px solid gray;flex-grow: 1;}#sk-container-id-1 div.sk-label:hover label.sk-toggleable__label {background-color: #d4ebff;}#sk-container-id-1 div.sk-serial::before {content: \"\";position: absolute;border-left: 1px solid gray;box-sizing: border-box;top: 0;bottom: 0;left: 50%;z-index: 0;}#sk-container-id-1 div.sk-serial {display: flex;flex-direction: column;align-items: center;background-color: white;padding-right: 0.2em;padding-left: 0.2em;position: relative;}#sk-container-id-1 div.sk-item {position: relative;z-index: 1;}#sk-container-id-1 div.sk-parallel {display: flex;align-items: stretch;justify-content: center;background-color: white;position: relative;}#sk-container-id-1 div.sk-item::before, #sk-container-id-1 div.sk-parallel-item::before {content: \"\";position: absolute;border-left: 1px solid gray;box-sizing: border-box;top: 0;bottom: 0;left: 50%;z-index: -1;}#sk-container-id-1 div.sk-parallel-item {display: flex;flex-direction: column;z-index: 1;position: relative;background-color: white;}#sk-container-id-1 div.sk-parallel-item:first-child::after {align-self: flex-end;width: 50%;}#sk-container-id-1 div.sk-parallel-item:last-child::after {align-self: flex-start;width: 50%;}#sk-container-id-1 div.sk-parallel-item:only-child::after {width: 0;}#sk-container-id-1 div.sk-dashed-wrapped {border: 1px dashed gray;margin: 0 0.4em 0.5em 0.4em;box-sizing: border-box;padding-bottom: 0.4em;background-color: white;}#sk-container-id-1 div.sk-label label {font-family: monospace;font-weight: bold;display: inline-block;line-height: 1.2em;}#sk-container-id-1 div.sk-label-container {text-align: center;}#sk-container-id-1 div.sk-container {/* jupyter's `normalize.less` sets `[hidden] { display: none; }` but bootstrap.min.css set `[hidden] { display: none !important; }` so we also need the `!important` here to be able to override the default hidden behavior on the sphinx rendered scikit-learn.org. See: https://github.com/scikit-learn/scikit-learn/issues/21755 */display: inline-block !important;position: relative;}#sk-container-id-1 div.sk-text-repr-fallback {display: none;}</style><div id=\"sk-container-id-1\" class=\"sk-top-container\"><div class=\"sk-text-repr-fallback\"><pre>RandomForestClassifier(max_depth=2, random_state=0)</pre><b>In a Jupyter environment, please rerun this cell to show the HTML representation or trust the notebook. <br />On GitHub, the HTML representation is unable to render, please try loading this page with nbviewer.org.</b></div><div class=\"sk-container\" hidden><div class=\"sk-item\"><div class=\"sk-estimator sk-toggleable\"><input class=\"sk-toggleable__control sk-hidden--visually\" id=\"sk-estimator-id-1\" type=\"checkbox\" checked><label for=\"sk-estimator-id-1\" class=\"sk-toggleable__label sk-toggleable__label-arrow\">RandomForestClassifier</label><div class=\"sk-toggleable__content\"><pre>RandomForestClassifier(max_depth=2, random_state=0)</pre></div></div></div></div></div>"
      ],
      "text/plain": [
       "RandomForestClassifier(max_depth=2, random_state=0)"
      ]
     },
     "execution_count": 24,
     "metadata": {},
     "output_type": "execute_result"
    }
   ],
   "source": [
    "# train a random forest classifier\n",
    "from sklearn.ensemble import RandomForestClassifier\n",
    "\n",
    "model = RandomForestClassifier(n_estimators=100, max_depth=2, random_state=0)\n",
    "model.fit(X_train_flatten, y_train)"
   ]
  },
  {
   "cell_type": "markdown",
   "metadata": {},
   "source": [
    "#### Make predictions"
   ]
  },
  {
   "cell_type": "code",
   "execution_count": 25,
   "metadata": {},
   "outputs": [],
   "source": [
    "y_pred_probs = model.predict_proba(X_test_flatten)\n",
    "predictions = model.predict(X_test_flatten)"
   ]
  },
  {
   "cell_type": "markdown",
   "metadata": {},
   "source": [
    "##### Plot Confusion Matrix"
   ]
  },
  {
   "cell_type": "code",
   "execution_count": 26,
   "metadata": {},
   "outputs": [
    {
     "data": {
      "image/png": "[encoded data removed]",
      "text/plain": [
       "<Figure size 640x480 with 2 Axes>"
      ]
     },
     "metadata": {},
     "output_type": "display_data"
    }
   ],
   "source": [
    "from sklearn.metrics import confusion_matrix, ConfusionMatrixDisplay\n",
    "\n",
    "cm = confusion_matrix(y_test, predictions, labels=model.classes_)\n",
    "disp = ConfusionMatrixDisplay(confusion_matrix=cm, display_labels=model.classes_)\n",
    "disp.plot()\n",
    "plt.show()"
   ]
  },
  {
   "cell_type": "markdown",
   "metadata": {},
   "source": [
    "# Evaluation"
   ]
  },
  {
   "cell_type": "code",
   "execution_count": 27,
   "metadata": {},
   "outputs": [
    {
     "name": "stdout",
     "output_type": "stream",
     "text": [
      "['02a' '03a']\n"
     ]
    }
   ],
   "source": [
    "print(le.classes_)"
   ]
  },
  {
   "cell_type": "code",
   "execution_count": 28,
   "metadata": {},
   "outputs": [
    {
     "ename": "FileNotFoundError",
     "evalue": "[Errno 2] No such file or directory: '/home/konto/datasets/gesture_set/allergic_rhinitis/evaluate/02a/02a_524_946_02a_1_0_100_AccGyr_1_1_1_0_00_61683eb7ed1368992649f25f.json'",
     "output_type": "error",
     "traceback": [
      "\u001b[0;31m---------------------------------------------------------------------------\u001b[0m",
      "\u001b[0;31mFileNotFoundError\u001b[0m                         Traceback (most recent call last)",
      "\u001b[1;32m/home/konto/crossai-playground/tutorials/E2E/GestureSet-E2E.ipynb Cell 42\u001b[0m line \u001b[0;36m7\n\u001b[1;32m      <a href='vscode-notebook-cell://ssh-remote%2Bdgx.ceid.upatras.gr/home/konto/crossai-playground/tutorials/E2E/GestureSet-E2E.ipynb#X43sdnNjb2RlLXJlbW90ZQ%3D%3D?line=3'>4</a>\u001b[0m evaluation_inst_path \u001b[39m=\u001b[39m config[\u001b[39m'\u001b[39m\u001b[39mPATH\u001b[39m\u001b[39m'\u001b[39m][\u001b[39m'\u001b[39m\u001b[39mEVALUATION\u001b[39m\u001b[39m'\u001b[39m][\u001b[39m'\u001b[39m\u001b[39mINSTANCE\u001b[39m\u001b[39m'\u001b[39m] \n\u001b[1;32m      <a href='vscode-notebook-cell://ssh-remote%2Bdgx.ceid.upatras.gr/home/konto/crossai-playground/tutorials/E2E/GestureSet-E2E.ipynb#X43sdnNjb2RlLXJlbW90ZQ%3D%3D?line=4'>5</a>\u001b[0m \u001b[39m# load evaluation object by providing the path to the folder containing the data,\u001b[39;00m\n\u001b[1;32m      <a href='vscode-notebook-cell://ssh-remote%2Bdgx.ceid.upatras.gr/home/konto/crossai-playground/tutorials/E2E/GestureSet-E2E.ipynb#X43sdnNjb2RlLXJlbW90ZQ%3D%3D?line=5'>6</a>\u001b[0m \u001b[39m# the baseline label and the label mapping\u001b[39;00m\n\u001b[0;32m----> <a href='vscode-notebook-cell://ssh-remote%2Bdgx.ceid.upatras.gr/home/konto/crossai-playground/tutorials/E2E/GestureSet-E2E.ipynb#X43sdnNjb2RlLXJlbW90ZQ%3D%3D?line=6'>7</a>\u001b[0m Evaluation_object \u001b[39m=\u001b[39m cpl\u001b[39m.\u001b[39;49mcsv_loader(evaluation_inst_path, \u001b[39mlist\u001b[39;49m(le\u001b[39m.\u001b[39;49mclasses_))\n",
      "File \u001b[0;32m~/anaconda3/envs/cai/lib/python3.11/site-packages/crossai/performance/loader/_ts_tabular.py:21\u001b[0m, in \u001b[0;36mcsv_loader\u001b[0;34m(filename, classes, delimiter, header)\u001b[0m\n\u001b[1;32m     19\u001b[0m df \u001b[39m=\u001b[39m pd\u001b[39m.\u001b[39mDataFrame(columns\u001b[39m=\u001b[39m[\u001b[39m'\u001b[39m\u001b[39minstance\u001b[39m\u001b[39m'\u001b[39m, \u001b[39m'\u001b[39m\u001b[39mlabel\u001b[39m\u001b[39m'\u001b[39m, \u001b[39m'\u001b[39m\u001b[39mfeature\u001b[39m\u001b[39m'\u001b[39m, \u001b[39m'\u001b[39m\u001b[39mdata\u001b[39m\u001b[39m'\u001b[39m])\n\u001b[1;32m     20\u001b[0m local_df \u001b[39m=\u001b[39m pd\u001b[39m.\u001b[39mread_csv(filename, delimiter\u001b[39m=\u001b[39mdelimiter, header\u001b[39m=\u001b[39mheader)\n\u001b[0;32m---> 21\u001b[0m labels, _ \u001b[39m=\u001b[39m pilot_label_processing(filename\u001b[39m.\u001b[39;49mreplace(\u001b[39m'\u001b[39;49m\u001b[39m.csv\u001b[39;49m\u001b[39m'\u001b[39;49m, \u001b[39m'\u001b[39;49m\u001b[39m.json\u001b[39;49m\u001b[39m'\u001b[39;49m),\n\u001b[1;32m     22\u001b[0m                                    classes,\n\u001b[1;32m     23\u001b[0m                                    \u001b[39mlen\u001b[39;49m(local_df))\n\u001b[1;32m     25\u001b[0m \u001b[39mfor\u001b[39;00m i \u001b[39min\u001b[39;00m \u001b[39mrange\u001b[39m(\u001b[39mlen\u001b[39m(local_df\u001b[39m.\u001b[39mcolumns)):\n\u001b[1;32m     26\u001b[0m     df \u001b[39m=\u001b[39m pd\u001b[39m.\u001b[39mconcat([df, pd\u001b[39m.\u001b[39mDataFrame([[\u001b[39m0\u001b[39m,\n\u001b[1;32m     27\u001b[0m                                        labels,\n\u001b[1;32m     28\u001b[0m                                        local_df\u001b[39m.\u001b[39mcolumns[i],\n\u001b[0;32m   (...)\u001b[0m\n\u001b[1;32m     33\u001b[0m                                               \u001b[39m'\u001b[39m\u001b[39mdata\u001b[39m\u001b[39m'\u001b[39m])],\n\u001b[1;32m     34\u001b[0m                    ignore_index\u001b[39m=\u001b[39m\u001b[39mTrue\u001b[39;00m)\n",
      "File \u001b[0;32m~/anaconda3/envs/cai/lib/python3.11/site-packages/crossai/performance/_utils.py:50\u001b[0m, in \u001b[0;36mpilot_label_processing\u001b[0;34m(json_path, classes, n_instances)\u001b[0m\n\u001b[1;32m     47\u001b[0m segments \u001b[39m=\u001b[39m []\n\u001b[1;32m     49\u001b[0m \u001b[39m# load json\u001b[39;00m\n\u001b[0;32m---> 50\u001b[0m \u001b[39mwith\u001b[39;00m \u001b[39mopen\u001b[39;49m(json_path) \u001b[39mas\u001b[39;00m f:\n\u001b[1;32m     51\u001b[0m     data \u001b[39m=\u001b[39m json\u001b[39m.\u001b[39mload(f)\n\u001b[1;32m     52\u001b[0m \u001b[39m# create label array with None class\u001b[39;00m\n",
      "\u001b[0;31mFileNotFoundError\u001b[0m: [Errno 2] No such file or directory: '/home/konto/datasets/gesture_set/allergic_rhinitis/evaluate/02a/02a_524_946_02a_1_0_100_AccGyr_1_1_1_0_00_61683eb7ed1368992649f25f.json'"
     ]
    }
   ],
   "source": [
    "# from crossai.performance.loader import csv_loader\n",
    "import crossai.performance.loader as cpl\n",
    "\n",
    "evaluation_inst_path = config['PATH']['EVALUATION']['INSTANCE']\n",
    "# load evaluation object by providing the path to the folder containing the data,\n",
    "# the baseline label and the label mapping\n",
    "cai_evaluation = cpl.csv_loader(evaluation_inst_path, list(le.classes_))"
   ]
  },
  {
   "cell_type": "code",
   "execution_count": null,
   "metadata": {},
   "outputs": [],
   "source": [
    "from crossai_lib.performance._utils_visualization import plot_signal\n",
    "plot_signal(Evaluation_object.data[0:3], 'Raw signal',['x','y','z'], segments=[[525,946,'aquamarine']])"
   ]
  },
  {
   "cell_type": "markdown",
   "metadata": {},
   "source": [
    "Perform similar processing as with train data"
   ]
  },
  {
   "cell_type": "code",
   "execution_count": null,
   "metadata": {},
   "outputs": [],
   "source": [
    "from crossai_lib.pipelines.evaluation import addModeltoObject, pilotEvaluation\n",
    "#add these 2 steps to the pipeline\n",
    "#AMTO= addModeltoObject(model)\n",
    "#PE = pilotEvaluation(per_window=True)\n",
    "\n",
    "#remove LE from the pipeline\n",
    "MSW_pipeline.steps.pop()\n",
    "\n",
    "#add the steps to the pipeline\n",
    "#MSW_pipeline.steps.append(('AMTO', AMTO))\n",
    "#MSW_pipeline.steps.append(('PE', PE))\n",
    "\n",
    "MSW_pipeline.transform(Evaluation_object)"
   ]
  },
  {
   "cell_type": "code",
   "execution_count": null,
   "metadata": {},
   "outputs": [],
   "source": [
    "print(Evaluation_object.data.shape)"
   ]
  },
  {
   "cell_type": "code",
   "execution_count": null,
   "metadata": {},
   "outputs": [],
   "source": [
    "print(Evaluation_object.instance)"
   ]
  },
  {
   "cell_type": "markdown",
   "metadata": {},
   "source": [
    "Labels are being handled inside object with slidng window transformer"
   ]
  },
  {
   "cell_type": "code",
   "execution_count": null,
   "metadata": {},
   "outputs": [],
   "source": [
    "print(Evaluation_object.labels)"
   ]
  },
  {
   "cell_type": "code",
   "execution_count": null,
   "metadata": {},
   "outputs": [],
   "source": [
    "from crossai_lib.performance.pilot_evaluation import perform_evaluation\n",
    "\n",
    "results = perform_evaluation(model, Evaluation_object.data, Evaluation_object.labels, repeats=1, per_window=True, GT_threshold=0.9)"
   ]
  },
  {
   "cell_type": "code",
   "execution_count": null,
   "metadata": {},
   "outputs": [],
   "source": [
    "print(results['mean_pred'].shape)"
   ]
  },
  {
   "cell_type": "code",
   "execution_count": null,
   "metadata": {},
   "outputs": [],
   "source": [
    "print('mean_predictions: ', results['mean_pred'])\n",
    "print('STD:', results['STD'])\n",
    "print('Variance:', results['variance'])\n",
    "print('Entropy: ', results['entropy'])\n",
    "print('Predicted Classes: ', results['predicted_classes'])"
   ]
  },
  {
   "cell_type": "markdown",
   "metadata": {},
   "source": [
    "Count Insertions, deletions, substitutions and corrects"
   ]
  },
  {
   "cell_type": "code",
   "execution_count": null,
   "metadata": {},
   "outputs": [],
   "source": [
    "print('Y_eval: ', Evaluation_object.labels)\n",
    "print('Y_pred: ', results['predicted_classes'])\n",
    "\n",
    "print('Insertions: ', results['insertions'])\n",
    "print('Deletions: ', results['deletions'])\n",
    "print('Substitutions: ', results['substitutions'])\n",
    "print('Corrects: ', results['correct'])"
   ]
  },
  {
   "cell_type": "code",
   "execution_count": null,
   "metadata": {},
   "outputs": [],
   "source": [
    "#get index of 0\n",
    "index = np.where(Evaluation_object.labels == 0)[0]\n",
    "print('Index of 0: ', index)"
   ]
  },
  {
   "cell_type": "markdown",
   "metadata": {},
   "source": [
    "Plot section"
   ]
  },
  {
   "cell_type": "code",
   "execution_count": null,
   "metadata": {},
   "outputs": [],
   "source": [
    "from crossai_lib.performance._utils_visualization import scatter_predictions\n",
    "scatter_predictions(results['mean_pred'], title=\"Scater plotted predictions\", labels=list(LE.le.classes_), save_path=None, show=True, s=50, color_threshold=0.9)"
   ]
  },
  {
   "cell_type": "code",
   "execution_count": null,
   "metadata": {},
   "outputs": [],
   "source": [
    "from crossai_lib.performance._utils_visualization import interpolate_plot_predictions\n",
    "import scipy.signal as signal\n",
    "\n",
    "interpolate_plot_predictions(results['mean_pred'], title=\"Interpolated predictions\", labels=list(LE.le.classes_))\n",
    "\n",
    "b = signal.butter(5, 0.1, btype = \"lowpass\", analog = False, output = \"sos\")\n",
    "interpolate_plot_predictions(results['mean_pred'], title=\"Filtered interpolated predictions\", labels=list(LE.le.classes_), filter=b)\n",
    "\n",
    "interpolate_plot_predictions(results['mean_pred'], title=\"Clipped filtered interpolated predictions\", labels=list(LE.le.classes_), filter=b, clip_list=[0.7,0.7])\n",
    "\n"
   ]
  },
  {
   "cell_type": "markdown",
   "metadata": {},
   "source": [
    "# Batch pilot eval demo"
   ]
  },
  {
   "cell_type": "code",
   "execution_count": null,
   "metadata": {},
   "outputs": [],
   "source": [
    "from crossai_lib.performance.batch_pilot_evaluation import perform_batch_evaluation\n",
    "\n",
    "perform_batch_evaluation(model,\n",
    "                         config[\"batch_evaluation_data_path\"],\n",
    "                         list(LE.le.classes_),\n",
    "                         pipeline=MSW_pipeline,\n",
    "                         save_path=config[\"batch_evaluation_save_path\"],\n",
    "                         per_window=False,\n",
    "                         repeats=2)"
   ]
  }
 ],
 "metadata": {
  "kernelspec": {
   "display_name": "Python 3 (ipykernel)",
   "language": "python",
   "name": "python3"
  },
  "language_info": {
   "codemirror_mode": {
    "name": "ipython",
    "version": 3
   },
   "file_extension": ".py",
   "mimetype": "text/x-python",
   "name": "python",
   "nbconvert_exporter": "python",
   "pygments_lexer": "ipython3",
   "version": "3.11.6"
  }
 },
 "nbformat": 4,
 "nbformat_minor": 2
}
